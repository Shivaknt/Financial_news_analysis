{
 "cells": [
  {
   "cell_type": "code",
   "execution_count": 2,
   "metadata": {},
   "outputs": [
    {
     "name": "stderr",
     "output_type": "stream",
     "text": [
      "C:\\Users\\DELL\\AppData\\Local\\Temp\\ipykernel_13988\\2299653948.py:6: DtypeWarning: Columns (1,2,3,4,5,6,7,8,9,10) have mixed types. Specify dtype option on import or set low_memory=False.\n",
      "  data = pd.read_csv(\"raw-data.csv\")\n"
     ]
    }
   ],
   "source": [
    "# Importing necessary libraries\n",
    "import pandas as pd\n",
    "import matplotlib.pyplot as plt\n",
    "\n",
    "# Load the dataset\n",
    "data = pd.read_csv(\"raw-data.csv\")"
   ]
  },
  {
   "cell_type": "code",
   "execution_count": 2,
   "metadata": {},
   "outputs": [
    {
     "name": "stdout",
     "output_type": "stream",
     "text": [
      "<class 'pandas.core.frame.DataFrame'>\n",
      "RangeIndex: 933257 entries, 0 to 933256\n",
      "Data columns (total 11 columns):\n",
      " #   Column        Non-Null Count   Dtype \n",
      "---  ------        --------------   ----- \n",
      " 0   article_id    933257 non-null  object\n",
      " 1   source_id     119528 non-null  object\n",
      " 2   source_name   867338 non-null  object\n",
      " 3   author        753810 non-null  object\n",
      " 4   title         866788 non-null  object\n",
      " 5   description   863921 non-null  object\n",
      " 6   url           804149 non-null  object\n",
      " 7   url_to_image  748719 non-null  object\n",
      " 8   published_at  804149 non-null  object\n",
      " 9   content       803683 non-null  object\n",
      " 10  category      803767 non-null  object\n",
      "dtypes: object(11)\n",
      "memory usage: 78.3+ MB\n",
      "None\n"
     ]
    }
   ],
   "source": [
    "# Display basic information about the dataset\n",
    "print(data.info())"
   ]
  },
  {
   "cell_type": "code",
   "execution_count": 3,
   "metadata": {},
   "outputs": [
    {
     "name": "stdout",
     "output_type": "stream",
     "text": [
      "  article_id source_id     source_name  \\\n",
      "0     594424       NaN          Forbes   \n",
      "1     594425       NaN          Forbes   \n",
      "2     594426       NaN          Forbes   \n",
      "3     594427       NaN  Slickdeals.net   \n",
      "4     594428       NaN        STERN.de   \n",
      "\n",
      "                                              author  \\\n",
      "0  Gemma Allen, Contributor, \\n Gemma Allen, Cont...   \n",
      "1  Forbes Vetted Paid Program With Wayfair, Contr...   \n",
      "2  Kari Molvar, Forbes Staff, \\n Kari Molvar, For...   \n",
      "3                                       RobloxAspect   \n",
      "4                                           STERN.de   \n",
      "\n",
      "                                               title  \\\n",
      "0  A Twist For Adam Neumann, Sam Altman, And The ...   \n",
      "1  21 Best Wayfair Deals To Shop During Black Fri...   \n",
      "2  The Best Black Friday Jacket Deals To Stay War...   \n",
      "3  CyberPowerPC - Gamer Supreme Gaming Desktop - ...   \n",
      "4  Tod von John F. Kennedy: Das sind die wildeste...   \n",
      "\n",
      "                                         description  \\\n",
      "0  Adam Neumann the ousted WeWork CEO was again p...   \n",
      "1  Wayfair's huge Black Friday event has discount...   \n",
      "2  Here are the best Black Friday jacket deals to...   \n",
      "3  *Specs:* \\n* AMD Ryzen 9 7900X \\n* NVIDIA GeFo...   \n",
      "4  Der Mord an John F. Kennedy rief zahlreiche Ve...   \n",
      "\n",
      "                                                 url  \\\n",
      "0  https://www.forbes.com/sites/gemmaallen/2023/1...   \n",
      "1  https://www.forbes.com/sites/forbes-personal-s...   \n",
      "2  https://www.forbes.com/sites/forbes-personal-s...   \n",
      "3  https://slickdeals.net/f/17086387-cyberpowerpc...   \n",
      "4  https://www.stern.de/lifestyle/leute/tod-von-j...   \n",
      "\n",
      "                                        url_to_image  \\\n",
      "0  https://imageio.forbes.com/specials-images/ima...   \n",
      "1  https://imageio.forbes.com/specials-images/ima...   \n",
      "2  https://imageio.forbes.com/specials-images/ima...   \n",
      "3  https://static.slickdealscdn.com/attachment/2/...   \n",
      "4  https://image.stern.de/34219868/t/YJ/v1/w1440/...   \n",
      "\n",
      "                 published_at  \\\n",
      "0  2023-11-21 05:11:36.000000   \n",
      "1  2023-11-21 14:55:48.000000   \n",
      "2  2023-11-21 15:39:27.000000   \n",
      "3  2023-11-21 14:46:46.000000   \n",
      "4  2023-11-21 16:59:00.000000   \n",
      "\n",
      "                                             content category  \n",
      "0  LOS ANGELES, CA - JANUARY 09: Adam Neumann spe...    Stock  \n",
      "1  This article was created in partnership with W...    Stock  \n",
      "2  Temperatures are starting to plummet, which me...    Stock  \n",
      "3  The dead Dell Aurora deal was a hit partly due...    Stock  \n",
      "4  Der Mord an John F. Kennedy rief zahlreiche Ve...    Stock  \n"
     ]
    }
   ],
   "source": [
    "# Display the first few rows of the dataset to understand its structure\n",
    "print(data.head())\n"
   ]
  },
  {
   "cell_type": "code",
   "execution_count": 5,
   "metadata": {},
   "outputs": [
    {
     "name": "stdout",
     "output_type": "stream",
     "text": [
      "News                         12897\n",
      "Google                       12796\n",
      "world                        12795\n",
      "Amazon                       12698\n",
      "Instagram                    12600\n",
      "                             ...  \n",
      "Guadeloupe                     100\n",
      "Isle of Man                    100\n",
      "Tuvalu                         100\n",
      "Macao                           99\n",
      "Taiwan, Province of China       99\n",
      "Name: category, Length: 258, dtype: int64\n"
     ]
    }
   ],
   "source": [
    "# Check the unique categories and their counts\n",
    "category_counts = data['category'].value_counts()\n",
    "print(category_counts)\n",
    "\n",
    "\n"
   ]
  },
  {
   "cell_type": "code",
   "execution_count": 6,
   "metadata": {},
   "outputs": [
    {
     "data": {
      "image/png": "[encoded data removed]",
      "text/plain": [
       "<Figure size 864x432 with 1 Axes>"
      ]
     },
     "metadata": {
      "needs_background": "light"
     },
     "output_type": "display_data"
    }
   ],
   "source": [
    "# Select the top N categories to plot\n",
    "top_categories = category_counts.head(20)  # You can adjust the number as needed\n",
    "\n",
    "# Plotting the distribution of top N categories\n",
    "plt.figure(figsize=(12, 6))\n",
    "top_categories.plot(kind='bar')\n",
    "plt.title('Top 20 Financial News Categories')\n",
    "plt.xlabel('Categories')\n",
    "plt.ylabel('Count')\n",
    "plt.xticks(rotation=45)\n",
    "plt.show()\n"
   ]
  },
  {
   "cell_type": "code",
   "execution_count": 3,
   "metadata": {},
   "outputs": [
    {
     "name": "stderr",
     "output_type": "stream",
     "text": [
      "Preprocessing Text: 100%|██████████| 803683/803683 [05:38<00:00, 2371.26rows/s]"
     ]
    },
    {
     "name": "stdout",
     "output_type": "stream",
     "text": [
      "  article_id source_id     source_name  \\\n",
      "0     594424       NaN          Forbes   \n",
      "1     594425       NaN          Forbes   \n",
      "2     594426       NaN          Forbes   \n",
      "3     594427       NaN  Slickdeals.net   \n",
      "4     594428       NaN        STERN.de   \n",
      "\n",
      "                                              author  \\\n",
      "0  Gemma Allen, Contributor, \\n Gemma Allen, Cont...   \n",
      "1  Forbes Vetted Paid Program With Wayfair, Contr...   \n",
      "2  Kari Molvar, Forbes Staff, \\n Kari Molvar, For...   \n",
      "3                                       RobloxAspect   \n",
      "4                                           STERN.de   \n",
      "\n",
      "                                               title  \\\n",
      "0  A Twist For Adam Neumann, Sam Altman, And The ...   \n",
      "1  21 Best Wayfair Deals To Shop During Black Fri...   \n",
      "2  The Best Black Friday Jacket Deals To Stay War...   \n",
      "3  CyberPowerPC - Gamer Supreme Gaming Desktop - ...   \n",
      "4  Tod von John F. Kennedy: Das sind die wildeste...   \n",
      "\n",
      "                                         description  \\\n",
      "0  Adam Neumann the ousted WeWork CEO was again p...   \n",
      "1  Wayfair's huge Black Friday event has discount...   \n",
      "2  Here are the best Black Friday jacket deals to...   \n",
      "3  *Specs:* \\n* AMD Ryzen 9 7900X \\n* NVIDIA GeFo...   \n",
      "4  Der Mord an John F. Kennedy rief zahlreiche Ve...   \n",
      "\n",
      "                                                 url  \\\n",
      "0  https://www.forbes.com/sites/gemmaallen/2023/1...   \n",
      "1  https://www.forbes.com/sites/forbes-personal-s...   \n",
      "2  https://www.forbes.com/sites/forbes-personal-s...   \n",
      "3  https://slickdeals.net/f/17086387-cyberpowerpc...   \n",
      "4  https://www.stern.de/lifestyle/leute/tod-von-j...   \n",
      "\n",
      "                                        url_to_image  \\\n",
      "0  https://imageio.forbes.com/specials-images/ima...   \n",
      "1  https://imageio.forbes.com/specials-images/ima...   \n",
      "2  https://imageio.forbes.com/specials-images/ima...   \n",
      "3  https://static.slickdealscdn.com/attachment/2/...   \n",
      "4  https://image.stern.de/34219868/t/YJ/v1/w1440/...   \n",
      "\n",
      "                 published_at  \\\n",
      "0  2023-11-21 05:11:36.000000   \n",
      "1  2023-11-21 14:55:48.000000   \n",
      "2  2023-11-21 15:39:27.000000   \n",
      "3  2023-11-21 14:46:46.000000   \n",
      "4  2023-11-21 16:59:00.000000   \n",
      "\n",
      "                                             content category  \\\n",
      "0  LOS ANGELES, CA - JANUARY 09: Adam Neumann spe...    Stock   \n",
      "1  This article was created in partnership with W...    Stock   \n",
      "2  Temperatures are starting to plummet, which me...    Stock   \n",
      "3  The dead Dell Aurora deal was a hit partly due...    Stock   \n",
      "4  Der Mord an John F. Kennedy rief zahlreiche Ve...    Stock   \n",
      "\n",
      "                                     content_cleaned  \n",
      "0  los angeles ca january 09 adam neumann speaks ...  \n",
      "1  article created partnership wayfair share onli...  \n",
      "2  temperatures starting plummet means good time ...  \n",
      "3  dead dell aurora deal hit partly due inclusion...  \n",
      "4  der mord john f kennedy rief zahlreiche versch...  \n"
     ]
    },
    {
     "name": "stderr",
     "output_type": "stream",
     "text": [
      "\n"
     ]
    }
   ],
   "source": [
    "import pandas as pd\n",
    "import nltk\n",
    "from nltk.corpus import stopwords\n",
    "import string\n",
    "import re\n",
    "from tqdm import tqdm\n",
    "\n",
    "\n",
    "# Drop rows with missing values in 'content' column\n",
    "data.dropna(subset=['content'], inplace=True)\n",
    "\n",
    "# Function to preprocess text data\n",
    "def preprocess_text(text):\n",
    "    # Convert text to lowercase\n",
    "    text = text.lower()\n",
    "    # Remove punctuation\n",
    "    text = text.translate(str.maketrans('', '', string.punctuation))\n",
    "    # Remove stopwords\n",
    "    stop_words = set(stopwords.words('english'))\n",
    "    text = ' '.join(word for word in text.split() if word not in stop_words)\n",
    "    # Remove extra whitespaces\n",
    "    text = re.sub('\\s+', ' ', text).strip()\n",
    "    return text\n",
    "\n",
    "# Apply text preprocessing to the 'content' column with tqdm progress bar\n",
    "with tqdm(total=len(data), desc=\"Preprocessing Text\", unit=\"rows\") as pbar:\n",
    "    data['content_cleaned'] = data['content'].apply(lambda x: preprocess_text(x))\n",
    "    pbar.update(len(data))\n",
    "\n",
    "# Display the cleaned data\n",
    "print(data.head())"
   ]
  },
  {
   "cell_type": "code",
   "execution_count": 8,
   "metadata": {},
   "outputs": [
    {
     "name": "stdout",
     "output_type": "stream",
     "text": [
      "                                             content  \\\n",
      "0  LOS ANGELES, CA - JANUARY 09: Adam Neumann spe...   \n",
      "1  This article was created in partnership with W...   \n",
      "2  Temperatures are starting to plummet, which me...   \n",
      "3  The dead Dell Aurora deal was a hit partly due...   \n",
      "4  Der Mord an John F. Kennedy rief zahlreiche Ve...   \n",
      "\n",
      "                                             summary  \n",
      "0  LOS ANGELES, CA - JANUARY 09: Adam Neumann spe...  \n",
      "1  This article was created in partnership with W...  \n",
      "2  Temperatures are starting to plummet, which me...  \n",
      "3  The dead Dell Aurora deal was a hit partly due...  \n",
      "4  Der Mord an John F. Kennedy rief zahlreiche Ve...  \n"
     ]
    }
   ],
   "source": [
    "from sumy.parsers.plaintext import PlaintextParser\n",
    "from sumy.nlp.tokenizers import Tokenizer\n",
    "from sumy.summarizers.lex_rank import LexRankSummarizer\n",
    "\n",
    "# Example function for text summarization using LexRank algorithm\n",
    "def generate_summary(text, sentences_count=2):\n",
    "    parser = PlaintextParser.from_string(text, Tokenizer(\"english\"))\n",
    "    summarizer = LexRankSummarizer()\n",
    "    summary = summarizer(parser.document, sentences_count)\n",
    "    return \" \".join(str(sentence) for sentence in summary)\n",
    "\n",
    "# Apply text summarization to the 'content' column\n",
    "data['summary'] = data['content'].apply(generate_summary)\n",
    "\n",
    "# Display the summaries\n",
    "print(data[['content', 'summary']].head())\n"
   ]
  },
  {
   "cell_type": "code",
   "execution_count": 10,
   "metadata": {},
   "outputs": [
    {
     "name": "stdout",
     "output_type": "stream",
     "text": [
      "ROUGE scores for article 0: {'rouge-1': {'precision': 0.9090909090909091, 'recall': 0.9090909090909091, 'f1': 0.909090908590909}}\n"
     ]
    }
   ],
   "source": [
    "import nltk\n",
    "\n",
    "# Function to calculate ROUGE scores for a single article\n",
    "def calculate_rouge_scores(summary, reference):\n",
    "    # Tokenize summaries and references\n",
    "    summary_tokens = nltk.word_tokenize(summary)\n",
    "    reference_tokens = nltk.word_tokenize(reference)\n",
    "    \n",
    "    # Calculate unigram overlap (ROUGE-1)\n",
    "    intersection = len(set(summary_tokens) & set(reference_tokens))\n",
    "    rouge_1_precision = intersection / len(summary_tokens)\n",
    "    rouge_1_recall = intersection / len(reference_tokens)\n",
    "    rouge_1_f1 = 2 * (rouge_1_precision * rouge_1_recall) / (rouge_1_precision + rouge_1_recall + 1e-9)\n",
    "    \n",
    "    return {'rouge-1': {'precision': rouge_1_precision, 'recall': rouge_1_recall, 'f1': rouge_1_f1}}\n",
    "\n",
    "# Example usage\n",
    "article_index = 0  # Change this index to evaluate a different article\n",
    "summary = data.loc[article_index, 'summary']\n",
    "reference = data.loc[article_index, 'content']  # Use the original content as the reference summary\n",
    "rouge_scores = calculate_rouge_scores(summary, reference)\n",
    "print(\"ROUGE scores for article {}: {}\".format(article_index, rouge_scores))\n"
   ]
  },
  {
   "cell_type": "code",
   "execution_count": 11,
   "metadata": {},
   "outputs": [
    {
     "name": "stdout",
     "output_type": "stream",
     "text": [
      "ROUGE scores for article 0: {'rouge-1': {'precision': 0.9090909090909091, 'recall': 0.9090909090909091, 'f1': 0.909090908590909}}\n",
      "ROUGE scores for article 1: {'rouge-1': {'precision': 0.9487179487179487, 'recall': 0.9487179487179487, 'f1': 0.9487179482179486}}\n",
      "ROUGE scores for article 2: {'rouge-1': {'precision': 0.8409090909090909, 'recall': 0.8409090909090909, 'f1': 0.8409090904090909}}\n",
      "ROUGE scores for article 3: {'rouge-1': {'precision': 0.9555555555555556, 'recall': 0.9555555555555556, 'f1': 0.9555555550555556}}\n",
      "ROUGE scores for article 4: {'rouge-1': {'precision': 0.9444444444444444, 'recall': 0.9444444444444444, 'f1': 0.9444444439444444}}\n",
      "ROUGE scores for article 5: {'rouge-1': {'precision': 1.0, 'recall': 1.0, 'f1': 0.9999999995}}\n",
      "ROUGE scores for article 6: {'rouge-1': {'precision': 0.8604651162790697, 'recall': 0.8604651162790697, 'f1': 0.8604651157790697}}\n",
      "ROUGE scores for article 7: {'rouge-1': {'precision': 0.8, 'recall': 0.8, 'f1': 0.7999999995000001}}\n",
      "ROUGE scores for article 8: {'rouge-1': {'precision': 0.6363636363636364, 'recall': 0.10606060606060606, 'f1': 0.18181818157328386}}\n",
      "ROUGE scores for article 9: {'rouge-1': {'precision': 0.9166666666666666, 'recall': 0.9166666666666666, 'f1': 0.9166666661666666}}\n",
      "ROUGE scores for article 10: {'rouge-1': {'precision': 0.8333333333333334, 'recall': 0.6976744186046512, 'f1': 0.7594936703900016}}\n",
      "ROUGE scores for article 11: {'rouge-1': {'precision': 0.8918918918918919, 'recall': 0.8918918918918919, 'f1': 0.8918918913918918}}\n",
      "ROUGE scores for article 12: {'rouge-1': {'precision': 0.7924528301886793, 'recall': 0.7924528301886793, 'f1': 0.7924528296886792}}\n",
      "ROUGE scores for article 13: {'rouge-1': {'precision': 0.8333333333333334, 'recall': 0.8333333333333334, 'f1': 0.8333333328333333}}\n",
      "ROUGE scores for article 14: {'rouge-1': {'precision': 0.8888888888888888, 'recall': 0.8888888888888888, 'f1': 0.8888888883888888}}\n",
      "ROUGE scores for article 15: {'rouge-1': {'precision': 0.8611111111111112, 'recall': 0.8611111111111112, 'f1': 0.8611111106111111}}\n",
      "ROUGE scores for article 16: {'rouge-1': {'precision': 0.9285714285714286, 'recall': 0.9285714285714286, 'f1': 0.9285714280714286}}\n",
      "ROUGE scores for article 17: {'rouge-1': {'precision': 0.9512195121951219, 'recall': 0.9512195121951219, 'f1': 0.9512195116951219}}\n",
      "ROUGE scores for article 18: {'rouge-1': {'precision': 0.9523809523809523, 'recall': 0.9523809523809523, 'f1': 0.9523809518809523}}\n",
      "ROUGE scores for article 19: {'rouge-1': {'precision': 0.95, 'recall': 0.95, 'f1': 0.9499999995}}\n"
     ]
    }
   ],
   "source": [
    "# Calculate ROUGE scores for the first 20 articles\n",
    "rouge_scores_list = []\n",
    "for article_index in range(20):\n",
    "    summary = data.loc[article_index, 'summary']\n",
    "    reference = data.loc[article_index, 'content']  # Use the original content as the reference summary\n",
    "    rouge_scores = calculate_rouge_scores(summary, reference)\n",
    "    rouge_scores_list.append(rouge_scores)\n",
    "\n",
    "# Display ROUGE scores for each article\n",
    "for article_index, rouge_scores in enumerate(rouge_scores_list):\n",
    "    print(\"ROUGE scores for article {}: {}\".format(article_index, rouge_scores))"
   ]
  },
  {
   "cell_type": "code",
   "execution_count": 12,
   "metadata": {},
   "outputs": [
    {
     "name": "stdout",
     "output_type": "stream",
     "text": [
      "Chosen Article:\n",
      "LOS ANGELES, CA - JANUARY 09: Adam Neumann speaks onstage during WeWork Presents Second Annual ... [+] Creator Global Finals at Microsoft Theater on January 9, 2019 in Los Angeles, California. (Photo… [+8692 chars]\n",
      "\n",
      "Similar Articles:\n",
      "0         LOS ANGELES, CA - JANUARY 09: Adam Neumann spe...\n",
      "1217      LOS ANGELES, CA - JANUARY 09: Adam Neumann spe...\n",
      "3651      LOS ANGELES, CA - JANUARY 09: Adam Neumann spe...\n",
      "7051      LOS ANGELES, CA - JANUARY 09: Adam Neumann spe...\n",
      "16158     LOS ANGELES, CA - JANUARY 09: Adam Neumann spe...\n",
      "20880     LOS ANGELES, CA - JANUARY 09: Adam Neumann spe...\n",
      "21812     LOS ANGELES, CA - JANUARY 09: Adam Neumann spe...\n",
      "922583    LOS ANGELES, CA - JANUARY 09: Adam Neumann spe...\n",
      "926299    LOS ANGELES, CA - JANUARY 09: Adam Neumann spe...\n",
      "928491    LOS ANGELES, CA - JANUARY 09: Adam Neumann spe...\n",
      "932269    LOS ANGELES, CA - JANUARY 09: Adam Neumann spe...\n",
      "Name: content, dtype: object\n"
     ]
    }
   ],
   "source": [
    "from sklearn.feature_extraction.text import TfidfVectorizer\n",
    "from sklearn.metrics.pairwise import cosine_similarity\n",
    "\n",
    "# Choose a sample article (for example, the first article in the dataset)\n",
    "chosen_article_index = 0\n",
    "chosen_article_content = data.loc[chosen_article_index, 'content']\n",
    "\n",
    "# Preprocess the text of the chosen article and all other articles\n",
    "def preprocess_text(text):\n",
    "    # Implement text preprocessing here (e.g., lowercasing, removing stopwords, punctuation, etc.)\n",
    "    return text\n",
    "\n",
    "data['content_preprocessed'] = data['content'].apply(preprocess_text)\n",
    "chosen_article_content_preprocessed = preprocess_text(chosen_article_content)\n",
    "\n",
    "# Compute TF-IDF vectors\n",
    "vectorizer = TfidfVectorizer()\n",
    "tfidf_matrix = vectorizer.fit_transform(data['content_preprocessed'])\n",
    "chosen_article_tfidf_vector = vectorizer.transform([chosen_article_content_preprocessed])\n",
    "\n",
    "# Calculate cosine similarity\n",
    "cosine_similarities = cosine_similarity(chosen_article_tfidf_vector, tfidf_matrix).flatten()\n",
    "\n",
    "# Set similarity threshold (for example, 0.5)\n",
    "similarity_threshold = 0.5\n",
    "\n",
    "# Retrieve similar articles\n",
    "similar_articles_indices = [i for i, similarity in enumerate(cosine_similarities) if similarity >= similarity_threshold]\n",
    "similar_articles = data.iloc[similar_articles_indices]\n",
    "\n",
    "# Evaluate effectiveness\n",
    "print(\"Chosen Article:\")\n",
    "print(chosen_article_content)\n",
    "print(\"\\nSimilar Articles:\")\n",
    "print(similar_articles['content'])\n",
    "\n",
    "# You can further evaluate by comparing the summaries or other relevant information\n"
   ]
  },
  {
   "cell_type": "code",
   "execution_count": 14,
   "metadata": {},
   "outputs": [
    {
     "data": {
      "image/png": "[encoded data removed]",
      "text/plain": [
       "<Figure size 432x288 with 1 Axes>"
      ]
     },
     "metadata": {
      "needs_background": "light"
     },
     "output_type": "display_data"
    }
   ],
   "source": [
    "# Analyze the length of summaries\n",
    "summary_lengths = data['summary'].apply(lambda x: len(x.split()))\n",
    "plt.hist(summary_lengths, bins=20, edgecolor='black')\n",
    "plt.title('Distribution of Summary Lengths')\n",
    "plt.xlabel('Length of Summary')\n",
    "plt.ylabel('Frequency')\n",
    "plt.show()"
   ]
  },
  {
   "cell_type": "code",
   "execution_count": 16,
   "metadata": {},
   "outputs": [
    {
     "name": "stdout",
     "output_type": "stream",
     "text": [
      "Top keywords: [('the', 1047112), ('chars', 760220), ('of', 489921), ('in', 454809), ('to', 451842), ('and', 397836), ('on', 232729), ('is', 202175), ('for', 194447), ('de', 184254), ('with', 136868), ('that', 126457), ('has', 122877), ('by', 117549), ('as', 114017), ('2023', 109219), ('at', 107957), ('its', 99390), ('li', 93939), ('from', 93011)]\n"
     ]
    }
   ],
   "source": [
    "from sklearn.feature_extraction.text import CountVectorizer\n",
    "# Keyword analysis (example)\n",
    "vectorizer = CountVectorizer(max_features=50)\n",
    "X = vectorizer.fit_transform(data['content_preprocessed'])\n",
    "vocab = vectorizer.get_feature_names_out()\n",
    "word_counts = X.sum(axis=0).A1\n",
    "word_freq = dict(zip(vocab, word_counts))\n",
    "sorted_word_freq = sorted(word_freq.items(), key=lambda x: x[1], reverse=True)\n",
    "top_keywords = sorted_word_freq[:20]\n",
    "print(\"Top keywords:\", top_keywords)"
   ]
  },
  {
   "cell_type": "code",
   "execution_count": null,
   "metadata": {},
   "outputs": [],
   "source": []
  }
 ],
 "metadata": {
  "kernelspec": {
   "display_name": "Python 3",
   "language": "python",
   "name": "python3"
  },
  "language_info": {
   "codemirror_mode": {
    "name": "ipython",
    "version": 3
   },
   "file_extension": ".py",
   "mimetype": "text/x-python",
   "name": "python",
   "nbconvert_exporter": "python",
   "pygments_lexer": "ipython3",
   "version": "3.10.5"
  }
 },
 "nbformat": 4,
 "nbformat_minor": 2
}
